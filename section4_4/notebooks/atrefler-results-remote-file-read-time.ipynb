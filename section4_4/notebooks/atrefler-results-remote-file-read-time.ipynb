{
 "cells": [
  {
   "cell_type": "markdown",
   "metadata": {},
   "source": [
    "# Setup"
   ]
  },
  {
   "cell_type": "code",
   "execution_count": null,
   "metadata": {},
   "outputs": [],
   "source": [
    "import pandas as pd\n",
    "import seaborn as sns"
   ]
  },
  {
   "cell_type": "code",
   "execution_count": null,
   "metadata": {},
   "outputs": [],
   "source": [
    "def import_data(file):\n",
    "    r = pd.read_csv(\"../results/{file}\".format(file=file), header=None).iloc[:, [0, 1, 5]]  # note: update column indices\n",
    "    r.columns = [\"access_type\", \"file_size\", \"micro_seconds\"]\n",
    "    \n",
    "    r['file_size'] = r['file_size'].map({\n",
    "        \" /Volumes/Daniel Reznikov's Public Folder/data_4_3/random_16K.data \" : 16,\n",
    "        \" /Volumes/Daniel Reznikov's Public Folder/data_4_3/random_32K.data \" : 32,\n",
    "        \" /Volumes/Daniel Reznikov's Public Folder/data_4_3/random_64K.data \" : 64,\n",
    "        \" /Volumes/Daniel Reznikov's Public Folder/data_4_3/random_128K.data \" : 128,\n",
    "        \" /Volumes/Daniel Reznikov's Public Folder/data_4_3/random_256K.data \" : 256})\n",
    "\n",
    "    return r"
   ]
  },
  {
   "cell_type": "code",
   "execution_count": null,
   "metadata": {},
   "outputs": [],
   "source": [
    "r1 = import_data(file=\"remote_file_read_time_t1.csv\")\n",
    "r2 = import_data(file=\"remote_file_read_time_t2.csv\")\n",
    "r3 = import_data(file=\"remote_file_read_time_t3.csv\")\n",
    "r4 = import_data(file=\"remote_file_read_time_t4.csv\")\n",
    "r5 = import_data(file=\"remote_file_read_time_t5.csv\")\n",
    "r6 = import_data(file=\"remote_file_read_time_t6.csv\")\n",
    "r7 = import_data(file=\"remote_file_read_time_t7.csv\")\n",
    "r8 = import_data(file=\"remote_file_read_time_t8.csv\")\n",
    "r9 = import_data(file=\"remote_file_read_time_t9.csv\")\n",
    "r10 = import_data(file=\"remote_file_read_time_t10.csv\")"
   ]
  },
  {
   "cell_type": "markdown",
   "metadata": {},
   "source": [
    "# Results"
   ]
  },
  {
   "cell_type": "code",
   "execution_count": null,
   "metadata": {},
   "outputs": [],
   "source": [
    "r1_seq = r1[r1['access_type'].str.contains('sequential')].groupby('file_size').mean().reset_index()\n",
    "r2_seq = r2[r2['access_type'].str.contains('sequential')].groupby('file_size').mean().reset_index()\n",
    "r3_seq = r3[r3['access_type'].str.contains('sequential')].groupby('file_size').mean().reset_index()\n",
    "r4_seq = r4[r4['access_type'].str.contains('sequential')].groupby('file_size').mean().reset_index()\n",
    "r5_seq = r5[r5['access_type'].str.contains('sequential')].groupby('file_size').mean().reset_index()\n",
    "r6_seq = r6[r6['access_type'].str.contains('sequential')].groupby('file_size').mean().reset_index()\n",
    "r7_seq = r7[r7['access_type'].str.contains('sequential')].groupby('file_size').mean().reset_index()\n",
    "r8_seq = r8[r8['access_type'].str.contains('sequential')].groupby('file_size').mean().reset_index()\n",
    "r9_seq = r9[r9['access_type'].str.contains('sequential')].groupby('file_size').mean().reset_index()\n",
    "r10_seq = r10[r10['access_type'].str.contains('sequential')].groupby('file_size').mean().reset_index()\n",
    "\n",
    "r_seq = pd.concat([r1_seq, r2_seq, r3_seq, r4_seq, r5_seq, r6_seq, r7_seq, r8_seq, r9_seq, r10_seq])\n",
    "r_seq_mean = r_seq.groupby('file_size').mean().reset_index()\n",
    "r_seq_std = r_seq.groupby('file_size').std().reset_index()\n",
    "\n",
    "print(\"Sequential Access\")\n",
    "print(\"Mean:\")\n",
    "display(r_seq_mean)\n",
    "print(\"Std:\")\n",
    "display(r_seq_std)"
   ]
  },
  {
   "cell_type": "code",
   "execution_count": null,
   "metadata": {},
   "outputs": [],
   "source": [
    "r1_ran = r1[r1['access_type'].str.contains('random')].groupby('file_size').mean().reset_index()\n",
    "r2_ran = r2[r2['access_type'].str.contains('random')].groupby('file_size').mean().reset_index()\n",
    "r3_ran = r3[r3['access_type'].str.contains('random')].groupby('file_size').mean().reset_index()\n",
    "r4_ran = r4[r4['access_type'].str.contains('random')].groupby('file_size').mean().reset_index()\n",
    "r5_ran = r5[r5['access_type'].str.contains('random')].groupby('file_size').mean().reset_index()\n",
    "r6_ran = r6[r6['access_type'].str.contains('random')].groupby('file_size').mean().reset_index()\n",
    "r7_ran = r7[r7['access_type'].str.contains('random')].groupby('file_size').mean().reset_index()\n",
    "r8_ran = r8[r8['access_type'].str.contains('random')].groupby('file_size').mean().reset_index()\n",
    "r9_ran = r9[r9['access_type'].str.contains('random')].groupby('file_size').mean().reset_index()\n",
    "r10_ran = r10[r10['access_type'].str.contains('random')].groupby('file_size').mean().reset_index()\n",
    "\n",
    "r_ran = pd.concat([r1_ran, r2_ran, r3_ran, r4_ran, r5_ran, r6_ran, r7_ran, r8_ran, r9_ran, r10_ran])\n",
    "r_ran_mean = r_ran.groupby('file_size').mean().reset_index()\n",
    "r_ran_std = r_ran.groupby('file_size').std().reset_index()\n",
    "\n",
    "print(\"Random Access\")\n",
    "print(\"Mean:\")\n",
    "display(r_ran_mean)\n",
    "print(\"Std:\")\n",
    "display(r_ran_std)"
   ]
  },
  {
   "cell_type": "code",
   "execution_count": null,
   "metadata": {},
   "outputs": [],
   "source": [
    "r_seq_mean.loc[1:, 'file_size']"
   ]
  },
  {
   "cell_type": "code",
   "execution_count": null,
   "metadata": {},
   "outputs": [],
   "source": [
    "plt.figure(figsize=(5, 5))\n",
    "\n",
    "plt.plot(r_seq_mean.loc[1:, 'file_size'], r_seq_mean.loc[1:, 'micro_seconds'], 'b', label=\"Sequential Access\")\n",
    "plt.plot(r_ran_mean.loc[1:, 'file_size'], r_ran_mean.loc[1:, 'micro_seconds'], 'r', label=\"Random Access\")\n",
    "plt.xscale('log', basex=2)\n",
    "\n",
    "plt.legend()\n",
    "plt.title(\"Remote File Read Time Per Character\")\n",
    "plt.ylabel(\"Microsceonds\")\n",
    "plt.xlabel(\"KB\")\n",
    "plt.show()"
   ]
  },
  {
   "cell_type": "code",
   "execution_count": null,
   "metadata": {},
   "outputs": [],
   "source": []
  }
 ],
 "metadata": {
  "kernelspec": {
   "display_name": "Python 3",
   "language": "python",
   "name": "python3"
  },
  "language_info": {
   "codemirror_mode": {
    "name": "ipython",
    "version": 3
   },
   "file_extension": ".py",
   "mimetype": "text/x-python",
   "name": "python",
   "nbconvert_exporter": "python",
   "pygments_lexer": "ipython3",
   "version": "3.5.4"
  },
  "toc": {
   "colors": {
    "hover_highlight": "#DAA520",
    "navigate_num": "#000000",
    "navigate_text": "#333333",
    "running_highlight": "#FF0000",
    "selected_highlight": "#FFD700",
    "sidebar_border": "#EEEEEE",
    "wrapper_background": "#FFFFFF"
   },
   "moveMenuLeft": true,
   "nav_menu": {
    "height": "11px",
    "width": "252px"
   },
   "navigate_menu": true,
   "number_sections": true,
   "sideBar": true,
   "threshold": 4,
   "toc_cell": false,
   "toc_section_display": "block",
   "toc_window_display": false,
   "widenNotebook": false
  }
 },
 "nbformat": 4,
 "nbformat_minor": 2
}
