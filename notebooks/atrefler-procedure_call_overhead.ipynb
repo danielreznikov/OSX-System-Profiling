{
 "cells": [
  {
   "cell_type": "code",
   "execution_count": null,
   "metadata": {},
   "outputs": [],
   "source": [
    "import numpy as np\n",
    "import pandas as pd\n",
    "import seaborn as sns"
   ]
  },
  {
   "cell_type": "code",
   "execution_count": null,
   "metadata": {},
   "outputs": [],
   "source": [
    "df =pd.read_csv(\"../data/procedure_call_overhead.csv\", index_col=None)\n",
    "df = df.drop('Experiment', axis=1)\n",
    "display(df)"
   ]
  },
  {
   "cell_type": "code",
   "execution_count": null,
   "metadata": {},
   "outputs": [],
   "source": [
    "print(\"Means by Number of Args:\")\n",
    "display(np.round(df.mean(axis=1)))\n",
    "print(\"Standard Deviations by Number of Args:\")\n",
    "display(np.round(df.std(axis=1)))"
   ]
  },
  {
   "cell_type": "code",
   "execution_count": null,
   "metadata": {},
   "outputs": [],
   "source": [
    "df.mean(axis=1).plot.bar(yerr=(df.std(axis=1) / np.sqrt(10)), color='b', ylim=(120, 160), figsize=(10, 5))\n",
    "plt.title(\"Procedure Call Overhead Experiment\")\n",
    "plt.xlabel(\"Number of Parameters Passed to Procedure\")\n",
    "plt.ylabel(\"Clock Cycles\")\n",
    "plt.savefig(\"../figures/procedure_call_overhead.png\", bbox_inches='tight')\n",
    "plt.show()"
   ]
  },
  {
   "cell_type": "code",
   "execution_count": null,
   "metadata": {},
   "outputs": [],
   "source": [
    "df_means = df.mean(axis=1)\n",
    "df_plot = pd.DataFrame([np.arange(0, 8), df_means]).T\n",
    "df_plot.columns=(['No. Args', 'Avg. Cycles'])\n",
    "\n",
    "plt.figure(figsize=(10, 5))\n",
    "sns.regplot(data=df_plot, x='No. Args', y='Avg. Cycles')\n",
    "plt.xlabel(\"Number of Arguments in Procedure Call\")\n",
    "plt.ylabel(\"Number of Cycles\")\n",
    "plt.title(\"Increment Overhead of an Argument\")\n",
    "plt.savefig(\"../figures/procedure_call_overhead_regplot.png\", bbox_inches='tight')\n",
    "plt.show()"
   ]
  },
  {
   "cell_type": "code",
   "execution_count": null,
   "metadata": {},
   "outputs": [],
   "source": [
    "from sklearn.linear_model import LinearRegression\n",
    "\n",
    "m = LinearRegression(fit_intercept=True)\n",
    "m.fit(df_plot['No. Args'].values.reshape(-1, 1), \n",
    "      df_plot['Avg. Cycles'].values.reshape(-1, 1))\n",
    "\n",
    "display(\"Increase in cycles per argument added: {}\".format(m.coef_))"
   ]
  },
  {
   "cell_type": "code",
   "execution_count": null,
   "metadata": {},
   "outputs": [],
   "source": []
  }
 ],
 "metadata": {
  "kernelspec": {
   "display_name": "Python 3",
   "language": "python",
   "name": "python3"
  },
  "language_info": {
   "codemirror_mode": {
    "name": "ipython",
    "version": 3
   },
   "file_extension": ".py",
   "mimetype": "text/x-python",
   "name": "python",
   "nbconvert_exporter": "python",
   "pygments_lexer": "ipython3",
   "version": "3.5.4"
  },
  "toc": {
   "colors": {
    "hover_highlight": "#DAA520",
    "navigate_num": "#000000",
    "navigate_text": "#333333",
    "running_highlight": "#FF0000",
    "selected_highlight": "#FFD700",
    "sidebar_border": "#EEEEEE",
    "wrapper_background": "#FFFFFF"
   },
   "moveMenuLeft": true,
   "nav_menu": {
    "height": "11px",
    "width": "252px"
   },
   "navigate_menu": true,
   "number_sections": true,
   "sideBar": true,
   "threshold": 4,
   "toc_cell": false,
   "toc_section_display": "block",
   "toc_window_display": false,
   "widenNotebook": false
  }
 },
 "nbformat": 4,
 "nbformat_minor": 2
}
