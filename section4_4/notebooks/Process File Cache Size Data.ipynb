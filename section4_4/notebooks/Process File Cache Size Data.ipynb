{
 "cells": [
  {
   "cell_type": "code",
   "execution_count": null,
   "metadata": {},
   "outputs": [],
   "source": [
    "# Size of file cache: \n",
    "#    Note that the file cache size is determined by the OS and will be sensitive to other load \n",
    "#    on the machine; for an application accessing lots of file system data, an OS will use a \n",
    "#    notable fraction of main memory (GBs) for the file system cache. Report results as a graph \n",
    "#    whose x-axis is the size of the file being accessed and the y-axis is the average read I/O \n",
    "#    time. Do not use a system call or utility program to determine this metric except to \n",
    "#    sanity check."
   ]
  },
  {
   "cell_type": "code",
   "execution_count": null,
   "metadata": {},
   "outputs": [],
   "source": [
    "import numpy as np\n",
    "import matplotlib.pyplot as plt\n",
    "import seaborn as sns"
   ]
  },
  {
   "cell_type": "code",
   "execution_count": null,
   "metadata": {},
   "outputs": [],
   "source": [
    "# Read data\n",
    "with open('data/file_cache_size_data.out') as f:\n",
    "    raw = f.readlines()"
   ]
  },
  {
   "cell_type": "code",
   "execution_count": null,
   "metadata": {},
   "outputs": [],
   "source": [
    "# Process data\n",
    "num_lines = len(raw)\n",
    "\n",
    "x = [] #1024 * np.arange(num_lines) + 1\n",
    "y = []\n",
    "stds = []\n",
    "\n",
    "for line in raw:\n",
    "    bytes_read = line.split(',')[0].strip()\n",
    "    bytes_read = bytes_read[bytes_read.index('(')+1: bytes_read.index(' MB')]\n",
    "    bytes_read = int(bytes_read)\n",
    "    x.append(bytes_read)\n",
    "    blocks_read = bytes_read  # MB * 256 = Blocks\n",
    "    \n",
    "    mean = line.split(',')[1].strip()\n",
    "    mean = mean[mean.index('(')+1: mean.index(' cycles')]\n",
    "    \n",
    "    std = line.split(',')[2].strip()\n",
    "    std = std[std.index('(')+1: std.index(')')]    \n",
    "\n",
    "    # convert cyles to milliseconds/block\n",
    "    y.append(   float(mean)/(2.7 * blocks_read * 10**6))\n",
    "    stds.append(float(std) /(2.7 * blocks_read * 10**6))"
   ]
  },
  {
   "cell_type": "code",
   "execution_count": null,
   "metadata": {},
   "outputs": [],
   "source": [
    "# from pprint import pprint\n",
    "# pprint(x)\n",
    "# pprint(y)\n"
   ]
  },
  {
   "cell_type": "code",
   "execution_count": null,
   "metadata": {},
   "outputs": [],
   "source": [
    "# Plot data\n",
    "plt.figure(figsize=(6,6))\n",
    "plt.plot(x, y)\n",
    "plt.axvline(x=2**13+1024*4, color='rosybrown', linestyle='--', label='label')\n",
    "plt.text(2**13+1000, 8.65, \"12GB\", rotation=90)\n",
    "plt.xscale('log', basex=2)\n",
    "# plt.yscale('log', basey=10)\n",
    "plt.xlabel('File Size [MB]')\n",
    "plt.ylabel('Latency [milliseconds per block]')\n",
    "plt.title('Average I/O Latency Per Block')\n",
    "# plt.savefig('data/fileCacheSizeResults.png')\n",
    "plt.show()"
   ]
  },
  {
   "cell_type": "code",
   "execution_count": null,
   "metadata": {},
   "outputs": [],
   "source": [
    "sns.set(color_codes=True)\n",
    "ax = sns.tsplot(data=y, err_style='ci_band', ci=stds)"
   ]
  },
  {
   "cell_type": "code",
   "execution_count": null,
   "metadata": {},
   "outputs": [],
   "source": []
  }
 ],
 "metadata": {
  "kernelspec": {
   "display_name": "Python 3",
   "language": "python",
   "name": "python3"
  },
  "language_info": {
   "codemirror_mode": {
    "name": "ipython",
    "version": 3
   },
   "file_extension": ".py",
   "mimetype": "text/x-python",
   "name": "python",
   "nbconvert_exporter": "python",
   "pygments_lexer": "ipython3",
   "version": "3.6.5"
  }
 },
 "nbformat": 4,
 "nbformat_minor": 2
}
