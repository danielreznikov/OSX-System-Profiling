{
 "cells": [
  {
   "cell_type": "code",
   "execution_count": 5,
   "metadata": {},
   "outputs": [],
   "source": [
    "import numpy as np\n",
    "import pandas as pd\n",
    "import seaborn as sns\n",
    "import matplotlib.pyplot as plt"
   ]
  },
  {
   "cell_type": "code",
   "execution_count": 6,
   "metadata": {},
   "outputs": [
    {
     "data": {
      "text/html": [
       "<div>\n",
       "<style scoped>\n",
       "    .dataframe tbody tr th:only-of-type {\n",
       "        vertical-align: middle;\n",
       "    }\n",
       "\n",
       "    .dataframe tbody tr th {\n",
       "        vertical-align: top;\n",
       "    }\n",
       "\n",
       "    .dataframe thead th {\n",
       "        text-align: right;\n",
       "    }\n",
       "</style>\n",
       "<table border=\"1\" class=\"dataframe\">\n",
       "  <thead>\n",
       "    <tr style=\"text-align: right;\">\n",
       "      <th></th>\n",
       "      <th>T1</th>\n",
       "      <th>T2</th>\n",
       "      <th>T3</th>\n",
       "      <th>T4</th>\n",
       "      <th>T5</th>\n",
       "      <th>T6</th>\n",
       "      <th>T7</th>\n",
       "      <th>T8</th>\n",
       "      <th>T9</th>\n",
       "      <th>T10</th>\n",
       "    </tr>\n",
       "  </thead>\n",
       "  <tbody>\n",
       "    <tr>\n",
       "      <th>0</th>\n",
       "      <td>235.199997</td>\n",
       "      <td>226.000000</td>\n",
       "      <td>226.800003</td>\n",
       "      <td>224.000000</td>\n",
       "      <td>224.800003</td>\n",
       "      <td>224.000000</td>\n",
       "      <td>226.000000</td>\n",
       "      <td>224.000000</td>\n",
       "      <td>224.000000</td>\n",
       "      <td>226.000000</td>\n",
       "    </tr>\n",
       "    <tr>\n",
       "      <th>1</th>\n",
       "      <td>236.399994</td>\n",
       "      <td>226.000000</td>\n",
       "      <td>226.000000</td>\n",
       "      <td>226.399994</td>\n",
       "      <td>227.199997</td>\n",
       "      <td>226.399994</td>\n",
       "      <td>226.800003</td>\n",
       "      <td>225.600006</td>\n",
       "      <td>226.399994</td>\n",
       "      <td>227.199997</td>\n",
       "    </tr>\n",
       "    <tr>\n",
       "      <th>2</th>\n",
       "      <td>235.199997</td>\n",
       "      <td>228.000000</td>\n",
       "      <td>227.600006</td>\n",
       "      <td>227.600006</td>\n",
       "      <td>227.600006</td>\n",
       "      <td>227.600006</td>\n",
       "      <td>227.600006</td>\n",
       "      <td>226.800003</td>\n",
       "      <td>227.199997</td>\n",
       "      <td>227.199997</td>\n",
       "    </tr>\n",
       "    <tr>\n",
       "      <th>3</th>\n",
       "      <td>236.000000</td>\n",
       "      <td>228.399994</td>\n",
       "      <td>227.199997</td>\n",
       "      <td>228.000000</td>\n",
       "      <td>228.399994</td>\n",
       "      <td>228.000000</td>\n",
       "      <td>227.600006</td>\n",
       "      <td>228.000000</td>\n",
       "      <td>227.600006</td>\n",
       "      <td>228.000000</td>\n",
       "    </tr>\n",
       "    <tr>\n",
       "      <th>4</th>\n",
       "      <td>238.000000</td>\n",
       "      <td>229.600006</td>\n",
       "      <td>229.199997</td>\n",
       "      <td>229.199997</td>\n",
       "      <td>229.199997</td>\n",
       "      <td>229.600006</td>\n",
       "      <td>229.199997</td>\n",
       "      <td>229.600006</td>\n",
       "      <td>229.600006</td>\n",
       "      <td>229.600006</td>\n",
       "    </tr>\n",
       "    <tr>\n",
       "      <th>5</th>\n",
       "      <td>234.000000</td>\n",
       "      <td>231.199997</td>\n",
       "      <td>230.000000</td>\n",
       "      <td>230.399994</td>\n",
       "      <td>230.399994</td>\n",
       "      <td>230.399994</td>\n",
       "      <td>230.000000</td>\n",
       "      <td>230.399994</td>\n",
       "      <td>230.399994</td>\n",
       "      <td>230.399994</td>\n",
       "    </tr>\n",
       "    <tr>\n",
       "      <th>6</th>\n",
       "      <td>236.800003</td>\n",
       "      <td>232.000000</td>\n",
       "      <td>231.199997</td>\n",
       "      <td>231.199997</td>\n",
       "      <td>231.199997</td>\n",
       "      <td>232.000000</td>\n",
       "      <td>230.399994</td>\n",
       "      <td>231.199997</td>\n",
       "      <td>231.199997</td>\n",
       "      <td>232.000000</td>\n",
       "    </tr>\n",
       "    <tr>\n",
       "      <th>7</th>\n",
       "      <td>244.000000</td>\n",
       "      <td>236.000000</td>\n",
       "      <td>236.399994</td>\n",
       "      <td>236.399994</td>\n",
       "      <td>236.399994</td>\n",
       "      <td>236.399994</td>\n",
       "      <td>236.399994</td>\n",
       "      <td>235.600006</td>\n",
       "      <td>236.000000</td>\n",
       "      <td>236.000000</td>\n",
       "    </tr>\n",
       "  </tbody>\n",
       "</table>\n",
       "</div>"
      ],
      "text/plain": [
       "           T1          T2          T3          T4          T5          T6  \\\n",
       "0  235.199997  226.000000  226.800003  224.000000  224.800003  224.000000   \n",
       "1  236.399994  226.000000  226.000000  226.399994  227.199997  226.399994   \n",
       "2  235.199997  228.000000  227.600006  227.600006  227.600006  227.600006   \n",
       "3  236.000000  228.399994  227.199997  228.000000  228.399994  228.000000   \n",
       "4  238.000000  229.600006  229.199997  229.199997  229.199997  229.600006   \n",
       "5  234.000000  231.199997  230.000000  230.399994  230.399994  230.399994   \n",
       "6  236.800003  232.000000  231.199997  231.199997  231.199997  232.000000   \n",
       "7  244.000000  236.000000  236.399994  236.399994  236.399994  236.399994   \n",
       "\n",
       "           T7          T8          T9         T10  \n",
       "0  226.000000  224.000000  224.000000  226.000000  \n",
       "1  226.800003  225.600006  226.399994  227.199997  \n",
       "2  227.600006  226.800003  227.199997  227.199997  \n",
       "3  227.600006  228.000000  227.600006  228.000000  \n",
       "4  229.199997  229.600006  229.600006  229.600006  \n",
       "5  230.000000  230.399994  230.399994  230.399994  \n",
       "6  230.399994  231.199997  231.199997  232.000000  \n",
       "7  236.399994  235.600006  236.000000  236.000000  "
      ]
     },
     "metadata": {},
     "output_type": "display_data"
    }
   ],
   "source": [
    "df =pd.read_csv(\"../section4_1/data/procedure_call_overhead.csv\", index_col=None)\n",
    "df = df.drop('Experiment', axis=1)\n",
    "display(df)"
   ]
  },
  {
   "cell_type": "code",
   "execution_count": 7,
   "metadata": {},
   "outputs": [
    {
     "name": "stdout",
     "output_type": "stream",
     "text": [
      "Means by Number of Args:\n"
     ]
    },
    {
     "data": {
      "text/plain": [
       "0    226.0\n",
       "1    227.0\n",
       "2    228.0\n",
       "3    229.0\n",
       "4    230.0\n",
       "5    231.0\n",
       "6    232.0\n",
       "7    237.0\n",
       "dtype: float64"
      ]
     },
     "metadata": {},
     "output_type": "display_data"
    },
    {
     "name": "stdout",
     "output_type": "stream",
     "text": [
      "Standard Deviations by Number of Args:\n"
     ]
    },
    {
     "data": {
      "text/plain": [
       "0    3.0\n",
       "1    3.0\n",
       "2    2.0\n",
       "3    3.0\n",
       "4    3.0\n",
       "5    1.0\n",
       "6    2.0\n",
       "7    2.0\n",
       "dtype: float64"
      ]
     },
     "metadata": {},
     "output_type": "display_data"
    }
   ],
   "source": [
    "print(\"Means by Number of Args:\")\n",
    "display(np.round(df.mean(axis=1)))\n",
    "print(\"Standard Deviations by Number of Args:\")\n",
    "display(np.round(df.std(axis=1)))"
   ]
  },
  {
   "cell_type": "code",
   "execution_count": 8,
   "metadata": {},
   "outputs": [
    {
     "data": {
      "image/png": "[encoded data removed]",
      "text/plain": [
       "<matplotlib.figure.Figure at 0x115559fd0>"
      ]
     },
     "metadata": {},
     "output_type": "display_data"
    }
   ],
   "source": [
    "df.mean(axis=1).plot.bar(yerr=(df.std(axis=1) / np.sqrt(10)), color='b', ylim=(120, 160), figsize=(10, 5))\n",
    "plt.title(\"Procedure Call Overhead Experiment\")\n",
    "plt.xlabel(\"Number of Parameters Passed to Procedure\")\n",
    "plt.ylabel(\"Clock Cycles\")\n",
    "plt.savefig(\"../figures/procedure_call_overhead.png\", bbox_inches='tight')\n",
    "plt.show()"
   ]
  },
  {
   "cell_type": "code",
   "execution_count": 9,
   "metadata": {},
   "outputs": [
    {
     "data": {
      "image/png": "[encoded data removed]",
      "text/plain": [
       "<matplotlib.figure.Figure at 0x115559630>"
      ]
     },
     "metadata": {},
     "output_type": "display_data"
    }
   ],
   "source": [
    "df_means = df.mean(axis=1)\n",
    "df_plot = pd.DataFrame([np.arange(0, 8), df_means]).T\n",
    "df_plot.columns=(['No. Args', 'Avg. Cycles'])\n",
    "\n",
    "plt.figure(figsize=(10, 5))\n",
    "sns.regplot(data=df_plot, x='No. Args', y='Avg. Cycles')\n",
    "plt.xlabel(\"Number of Arguments in Procedure Call\")\n",
    "plt.ylabel(\"Number of Cycles\")\n",
    "plt.title(\"Increment Overhead of an Argument\")\n",
    "plt.savefig(\"../figures/procedure_call_overhead_regplot.png\", bbox_inches='tight')\n",
    "plt.show()"
   ]
  },
  {
   "cell_type": "code",
   "execution_count": 10,
   "metadata": {},
   "outputs": [
    {
     "name": "stderr",
     "output_type": "stream",
     "text": [
      "/usr/local/lib/python3.6/site-packages/scipy/linalg/basic.py:1226: RuntimeWarning: internal gelsd driver lwork query error, required iwork dimension not returned. This is likely the result of LAPACK bug 0038, fixed in LAPACK 3.2.2 (released July 21, 2010). Falling back to 'gelss' driver.\n",
      "  warnings.warn(mesg, RuntimeWarning)\n"
     ]
    },
    {
     "data": {
      "text/plain": [
       "'Increase in cycles per argument added: [[1.28190435]]'"
      ]
     },
     "metadata": {},
     "output_type": "display_data"
    }
   ],
   "source": [
    "from sklearn.linear_model import LinearRegression\n",
    "\n",
    "m = LinearRegression(fit_intercept=True)\n",
    "m.fit(df_plot['No. Args'].values.reshape(-1, 1), \n",
    "      df_plot['Avg. Cycles'].values.reshape(-1, 1))\n",
    "\n",
    "display(\"Increase in cycles per argument added: {}\".format(m.coef_))"
   ]
  },
  {
   "cell_type": "code",
   "execution_count": null,
   "metadata": {},
   "outputs": [],
   "source": []
  }
 ],
 "metadata": {
  "kernelspec": {
   "display_name": "Python 3",
   "language": "python",
   "name": "python3"
  },
  "language_info": {
   "codemirror_mode": {
    "name": "ipython",
    "version": 3
   },
   "file_extension": ".py",
   "mimetype": "text/x-python",
   "name": "python",
   "nbconvert_exporter": "python",
   "pygments_lexer": "ipython3",
   "version": "3.6.5"
  },
  "toc": {
   "colors": {
    "hover_highlight": "#DAA520",
    "navigate_num": "#000000",
    "navigate_text": "#333333",
    "running_highlight": "#FF0000",
    "selected_highlight": "#FFD700",
    "sidebar_border": "#EEEEEE",
    "wrapper_background": "#FFFFFF"
   },
   "moveMenuLeft": true,
   "nav_menu": {
    "height": "11px",
    "width": "252px"
   },
   "navigate_menu": true,
   "number_sections": true,
   "sideBar": true,
   "threshold": 4,
   "toc_cell": false,
   "toc_section_display": "block",
   "toc_window_display": false,
   "widenNotebook": false
  }
 },
 "nbformat": 4,
 "nbformat_minor": 2
}
