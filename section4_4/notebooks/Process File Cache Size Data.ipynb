{
 "cells": [
  {
   "cell_type": "code",
   "execution_count": null,
   "metadata": {},
   "outputs": [],
   "source": [
    "# Size of file cache: \n",
    "#    Note that the file cache size is determined by the OS and will be sensitive to other load \n",
    "#    on the machine; for an application accessing lots of file system data, an OS will use a \n",
    "#    notable fraction of main memory (GBs) for the file system cache. Report results as a graph \n",
    "#    whose x-axis is the size of the file being accessed and the y-axis is the average read I/O \n",
    "#    time. Do not use a system call or utility program to determine this metric except to \n",
    "#    sanity check."
   ]
  },
  {
   "cell_type": "code",
   "execution_count": null,
   "metadata": {},
   "outputs": [],
   "source": [
    "import numpy as np\n",
    "import matplotlib.pyplot as plt"
   ]
  },
  {
   "cell_type": "code",
   "execution_count": null,
   "metadata": {},
   "outputs": [],
   "source": [
    "# Read data\n",
    "with open('data/file_cache_size_data.out') as f:\n",
    "    raw = f.readlines()"
   ]
  },
  {
   "cell_type": "code",
   "execution_count": null,
   "metadata": {},
   "outputs": [],
   "source": [
    "# Process data\n",
    "num_lines = len(raw)\n",
    "\n",
    "x = 1024 * np.arange(num_lines) + 1\n",
    "y = []\n",
    "\n",
    "for line in raw:\n",
    "    s = line.split()[2]\n",
    "    i1 = s.index('(') + 1\n",
    "    i2 = s.index(')')\n",
    "    y.append(int(s[i1:i2]))"
   ]
  },
  {
   "cell_type": "code",
   "execution_count": null,
   "metadata": {},
   "outputs": [],
   "source": [
    "# Plot data\n",
    "plt.figure(figsize=(8,8))\n",
    "plt.plot(x, y)\n",
    "plt.xscale('log', basex=2)\n",
    "plt.xlabel('File Size [bytes]')\n",
    "plt.ylabel('Latency [cycles]')\n",
    "plt.title('I/O Latency over File Sizes')\n",
    "plt.savefig('data/pointwise_backward.png')\n",
    "plt.show()"
   ]
  },
  {
   "cell_type": "code",
   "execution_count": null,
   "metadata": {},
   "outputs": [],
   "source": [
    "# Plot averaged data\n",
    "plt.figure(figsize=(8,8))\n",
    "plt.plot(x, np.cumsum(y))\n",
    "plt.xscale('log', basex=2)\n",
    "# plt.yscale('log', basey=2)\n",
    "plt.xlabel('File Size [bytes]')\n",
    "plt.ylabel('Latency [cycles]')\n",
    "plt.title('I/O Latency over File Sizes')\n",
    "plt.savefig('data/cumulative_backward.png')\n",
    "plt.show()"
   ]
  },
  {
   "cell_type": "code",
   "execution_count": null,
   "metadata": {},
   "outputs": [],
   "source": []
  }
 ],
 "metadata": {
  "kernelspec": {
   "display_name": "Python 3",
   "language": "python",
   "name": "python3"
  },
  "language_info": {
   "codemirror_mode": {
    "name": "ipython",
    "version": 3
   },
   "file_extension": ".py",
   "mimetype": "text/x-python",
   "name": "python",
   "nbconvert_exporter": "python",
   "pygments_lexer": "ipython3",
   "version": "3.6.3"
  }
 },
 "nbformat": 4,
 "nbformat_minor": 2
}
